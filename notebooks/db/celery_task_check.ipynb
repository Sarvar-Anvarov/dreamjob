{
 "cells": [
  {
   "cell_type": "code",
   "execution_count": 1,
   "id": "6f41cd54",
   "metadata": {},
   "outputs": [],
   "source": [
    "from celery import Celery\n",
    "from celery.schedules import crontab\n",
    "from structlog import get_logger\n",
    "\n",
    "from dreamjob.backend.db.utils.collect_data import get_vacancies\n",
    "from dreamjob.backend.db.utils.preprocess_data import preprocess_data\n",
    "from dreamjob.backend.db.utils.data_manipulation import insert, select\n",
    "from dreamjob.backend.db.utils.engine import DBConfig\n",
    "from dreamjob.backend.commons.exceptions import DataCollectionFailed\n",
    "\n",
    "logger = get_logger()\n",
    "\n",
    "\n",
    "def add_new_vacancies(area: int = 2,\n",
    "                      period: int = 1,\n",
    "                      per_page: int = 100) -> None:\n",
    "    \"\"\"\n",
    "    Periodically update table with new vacancies\n",
    "    Period - each day in the morning\n",
    "    TODO: Add celery task\n",
    "    \"\"\"\n",
    "    try:\n",
    "        logger.info(\"Add new vacancies\",\n",
    "                    area=area, period=period, per_page=per_page)\n",
    "\n",
    "        db_engine = DBConfig.get().db_engine\n",
    "\n",
    "        # parse vacancies and preprocess data\n",
    "        vacancies_raw = get_vacancies(area=area, period=period, per_page=per_page)\n",
    "        vacancies = preprocess_data(vacancies_raw)\n",
    "\n",
    "        # check if vacancy is in database already\n",
    "        ids_in_db = select(columns=\"id\", engine=db_engine)[\"id\"].astype(\"str\")\n",
    "        vacancies_to_insert = vacancies.query(\"id not in @ids_in_db\")\n",
    "        vacancies_to_update = vacancies.query(\"id in @ids_in_db\")\n",
    "\n",
    "        # insert new vacancies\n",
    "        number_of_new_vacs = insert(vacancies_to_insert, db_engine)\n",
    "\n",
    "        logger.info(\"New vacancies were added to table\",\n",
    "                    number_of_new_vacs=number_of_new_vacs,\n",
    "                    number_of_vacs_to_update=vacancies_to_update.shape[0])\n",
    "\n",
    "    except DataCollectionFailed:\n",
    "        logger.info(\"Data collection failed\")\n"
   ]
  },
  {
   "cell_type": "code",
   "execution_count": 2,
   "id": "9b249408",
   "metadata": {},
   "outputs": [
    {
     "name": "stdout",
     "output_type": "stream",
     "text": [
      "2022-06-21 23:06.53 [info     ] Pages are loaded               vacancies_allowed=2000 vacancies_found=10094\n",
      "2022-06-21 23:06.53 [info     ] Loading vacancy #0\n",
      "2022-06-21 23:07.06 [info     ] Vacancies are loaded           vacancies_loaded=100\n"
     ]
    }
   ],
   "source": [
    "db_engine = DBConfig.get().db_engine\n",
    "vacancies_raw = get_vacancies(area=2, period=1, per_page=100)"
   ]
  },
  {
   "cell_type": "code",
   "execution_count": 22,
   "id": "ff4cae8e",
   "metadata": {},
   "outputs": [],
   "source": [
    "vacancies = preprocess_data(vacancies_raw.dropna(subset=[\"id\"]))"
   ]
  },
  {
   "cell_type": "code",
   "execution_count": 23,
   "id": "3621fb88",
   "metadata": {},
   "outputs": [],
   "source": [
    "ids_in_db = select(columns=\"id\", engine=db_engine)[\"id\"].astype(\"str\")"
   ]
  },
  {
   "cell_type": "code",
   "execution_count": 24,
   "id": "566088a9",
   "metadata": {},
   "outputs": [],
   "source": [
    "vacancies_to_insert = vacancies.query(\"id not in @ids_in_db\")"
   ]
  },
  {
   "cell_type": "code",
   "execution_count": 25,
   "id": "09d03bc6",
   "metadata": {},
   "outputs": [
    {
     "data": {
      "text/plain": [
       "1480"
      ]
     },
     "execution_count": 25,
     "metadata": {},
     "output_type": "execute_result"
    }
   ],
   "source": [
    "insert(vacancies_to_insert, db_engine)"
   ]
  },
  {
   "cell_type": "code",
   "execution_count": 19,
   "id": "cc1fde9e",
   "metadata": {},
   "outputs": [
    {
     "data": {
      "text/plain": [
       "[{'value': 'captcha_required',\n",
       "  'captcha_url': 'https://hh.ru/account/captcha?state=pxvcxBozfu7ry7R4QCetFpeicJ2Ml%2Bur%2F701s7jX2mZxCzHziryEFFjVgnI%2BvznkyfuahMvjmAOQ8DPG8bnUGWrhRhFUOcv5QA6z0ppC9iyPP%2F6VbmCmTYn%2F9uSfLeTy',\n",
       "  'type': 'captcha_required'}]"
      ]
     },
     "execution_count": 19,
     "metadata": {},
     "output_type": "execute_result"
    }
   ],
   "source": [
    "vacancies_raw[\"errors\"][0]"
   ]
  }
 ],
 "metadata": {
  "kernelspec": {
   "display_name": "Python 3 (ipykernel)",
   "language": "python",
   "name": "python3"
  },
  "language_info": {
   "codemirror_mode": {
    "name": "ipython",
    "version": 3
   },
   "file_extension": ".py",
   "mimetype": "text/x-python",
   "name": "python",
   "nbconvert_exporter": "python",
   "pygments_lexer": "ipython3",
   "version": "3.8.13"
  }
 },
 "nbformat": 4,
 "nbformat_minor": 5
}
