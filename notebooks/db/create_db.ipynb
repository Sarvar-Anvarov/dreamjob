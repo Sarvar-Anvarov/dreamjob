{
 "cells": [
  {
   "cell_type": "code",
   "execution_count": 2,
   "id": "64cd07f0",
   "metadata": {},
   "outputs": [],
   "source": [
    "import sqlalchemy\n",
    "from sqlalchemy import create_engine, MetaData, Table, Column\n",
    "from dreamjob.config import settings\n",
    "\n",
    "DB_CONNECTION_STRING = settings.DB_CONNECTION_STRING"
   ]
  },
  {
   "cell_type": "code",
   "execution_count": 3,
   "id": "30e4e475",
   "metadata": {},
   "outputs": [
    {
     "name": "stdout",
     "output_type": "stream",
     "text": [
      "Database 'dreamjob' already exists\n"
     ]
    }
   ],
   "source": [
    "sql_engine = create_engine(DB_CONNECTION_STRING, isolation_level=\"AUTOCOMMIT\")\n",
    "\n",
    "try:\n",
    "    sql_engine.execute(\"CREATE DATABASE dreamjob\")\n",
    "    \n",
    "    print(\"Database 'dreamjob' has been created\")\n",
    "\n",
    "except Exception as e:\n",
    "    print(\"Database 'dreamjob' already exists\")\n",
    "\n",
    "db_engine = create_engine(DB_CONNECTION_STRING+\"/dreamjob\")\n",
    "metadata = MetaData()\n",
    "\n",
    "employees = Table('employees', metadata,\n",
    "    Column('employee_id', sqlalchemy.Integer, primary_key=True),\n",
    "    Column('employee_name', sqlalchemy.String(60), nullable=False, key='name')\n",
    ")"
   ]
  },
  {
   "cell_type": "code",
   "execution_count": 4,
   "id": "d3fe7561",
   "metadata": {},
   "outputs": [],
   "source": [
    "employees.create(db_engine, checkfirst=True)"
   ]
  },
  {
   "cell_type": "code",
   "execution_count": 6,
   "id": "ab4dee4e",
   "metadata": {},
   "outputs": [
    {
     "data": {
      "text/plain": [
       "True"
      ]
     },
     "execution_count": 6,
     "metadata": {},
     "output_type": "execute_result"
    }
   ],
   "source": [
    "import pandas as pd\n",
    "\n",
    "pd.read_sql_table(\"employees\", db_engine).empty"
   ]
  }
 ],
 "metadata": {
  "kernelspec": {
   "display_name": "Python 3 (ipykernel)",
   "language": "python",
   "name": "python3"
  },
  "language_info": {
   "codemirror_mode": {
    "name": "ipython",
    "version": 3
   },
   "file_extension": ".py",
   "mimetype": "text/x-python",
   "name": "python",
   "nbconvert_exporter": "python",
   "pygments_lexer": "ipython3",
   "version": "3.8.13"
  }
 },
 "nbformat": 4,
 "nbformat_minor": 5
}
