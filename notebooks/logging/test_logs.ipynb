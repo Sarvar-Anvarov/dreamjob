{
 "cells": [
  {
   "cell_type": "code",
   "execution_count": 1,
   "id": "ecb9936e",
   "metadata": {},
   "outputs": [],
   "source": [
    "import logging.config\n",
    "\n",
    "LOGGING_CONFIG = {\n",
    "    'version': 1,\n",
    "    'disable_existing_loggers': False,\n",
    "\n",
    "    'formatters': {\n",
    "        'default_formatter': {\n",
    "            'format': '[%(levelname)s:%(asctime)s] %(message)s'\n",
    "        },\n",
    "    },\n",
    "\n",
    "    'handlers': {\n",
    "        'stream_handler': {\n",
    "            'class': 'logging.StreamHandler',\n",
    "            'formatter': 'default_formatter',\n",
    "        },\n",
    "    },\n",
    "\n",
    "    'loggers': {\n",
    "        'logger': {\n",
    "            'handlers': ['stream_handler'],\n",
    "            'level': 'INFO',\n",
    "            'propagate': True\n",
    "        }\n",
    "    }\n",
    "}\n",
    "\n",
    "logging.config.dictConfig(LOGGING_CONFIG)\n",
    "logger = logging.getLogger('logger')\n",
    "logger.debug('debug log')"
   ]
  },
  {
   "cell_type": "code",
   "execution_count": 2,
   "id": "3ca22431",
   "metadata": {},
   "outputs": [
    {
     "name": "stderr",
     "output_type": "stream",
     "text": [
      "[INFO:2022-05-29 17:22:07,487] debug log\n"
     ]
    }
   ],
   "source": [
    "logger.info('debug log')"
   ]
  },
  {
   "cell_type": "code",
   "execution_count": 2,
   "id": "c6a313b8",
   "metadata": {},
   "outputs": [
    {
     "name": "stdout",
     "output_type": "stream",
     "text": [
      "2022-05-29 17:22.49 [info     ] greeted                        more_than_a_string=[1, 2, 3] whom=world\n"
     ]
    }
   ],
   "source": [
    "import structlog\n",
    "\n",
    "log = structlog.get_logger()\n",
    "log.msg(\"greeted\", whom=\"world\", more_than_a_string=[1, 2, 3])  "
   ]
  },
  {
   "cell_type": "code",
   "execution_count": 1,
   "id": "aa896e78",
   "metadata": {},
   "outputs": [],
   "source": [
    "import logging\n",
    "import structlog\n",
    "\n",
    "structlog.configure(\n",
    "    processors=[\n",
    "        structlog.processors.add_log_level,\n",
    "        structlog.processors.StackInfoRenderer(),\n",
    "        structlog.dev.set_exc_info,\n",
    "        structlog.processors.TimeStamper(),\n",
    "        structlog.dev.ConsoleRenderer()\n",
    "    ],\n",
    "    wrapper_class=structlog.make_filtering_bound_logger(logging.NOTSET),\n",
    "    context_class=dict,\n",
    "    logger_factory=structlog.PrintLoggerFactory(),\n",
    "    cache_logger_on_first_use=False\n",
    ")\n",
    "log = structlog.get_logger()"
   ]
  },
  {
   "cell_type": "code",
   "execution_count": 3,
   "id": "b923dad9",
   "metadata": {},
   "outputs": [
    {
     "name": "stdout",
     "output_type": "stream",
     "text": [
      "1653839007.440911 [info     ] kek                            ckeck=No lala=lala test=True y=x\n"
     ]
    }
   ],
   "source": [
    "log.info(\"kek\", test=True, ckeck=\"No\", lala=\"lala\", y=\"x\")"
   ]
  },
  {
   "cell_type": "code",
   "execution_count": 2,
   "id": "c283e71c",
   "metadata": {},
   "outputs": [],
   "source": [
    "from uvicorn import config"
   ]
  },
  {
   "cell_type": "code",
   "execution_count": 3,
   "id": "0d6a6bbc",
   "metadata": {},
   "outputs": [
    {
     "data": {
      "text/plain": [
       "{'uvicorn': {'handlers': ['default'], 'level': 'INFO'},\n",
       " 'uvicorn.error': {'level': 'INFO'},\n",
       " 'uvicorn.access': {'handlers': ['access'],\n",
       "  'level': 'INFO',\n",
       "  'propagate': False}}"
      ]
     },
     "execution_count": 3,
     "metadata": {},
     "output_type": "execute_result"
    }
   ],
   "source": [
    "config.LOGGING_CONFIG['loggers']"
   ]
  }
 ],
 "metadata": {
  "kernelspec": {
   "display_name": "Python 3 (ipykernel)",
   "language": "python",
   "name": "python3"
  },
  "language_info": {
   "codemirror_mode": {
    "name": "ipython",
    "version": 3
   },
   "file_extension": ".py",
   "mimetype": "text/x-python",
   "name": "python",
   "nbconvert_exporter": "python",
   "pygments_lexer": "ipython3",
   "version": "3.8.13"
  }
 },
 "nbformat": 4,
 "nbformat_minor": 5
}
